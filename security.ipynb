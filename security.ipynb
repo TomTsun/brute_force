{
 "cells": [
  {
   "cell_type": "code",
   "execution_count": null,
   "metadata": {},
   "outputs": [],
   "source": [
    "import base64 \n",
    "from Crypto.Cipher import AES\n",
    "from Crypto.Util.Padding import pad,unpad"
   ]
  },
  {
   "cell_type": "code",
   "execution_count": 3,
   "metadata": {},
   "outputs": [
    {
     "name": "stdout",
     "output_type": "stream",
     "text": [
      "9\n",
      "123456789\u0000\u0000\u0000\u0000\u0000\u0000\u0000\n",
      "b'123456789\\x00\\x00\\x00\\x00\\x00\\x00\\x00'\n",
      "16\n",
      "Encrypted: pKjVPv28yVMn5cRXeUNYpg==\n",
      "Decrypted: security\n"
     ]
    }
   ],
   "source": [
    "#AES ECB mode without IV\n",
    "\n",
    "key = \"123456789\" #Must Be 16 char for AES128\n",
    "block_size=16\n",
    "\n",
    "def __pad(text):\n",
    "        amount_to_pad = block_size - (len(text) % block_size)\n",
    "        pad = b'\\x00'  \n",
    "        return text.encode(\"utf-8\") + pad * amount_to_pad\n",
    "print(len(key))\n",
    "key = __pad(key)\n",
    "print(key.decode(\"utf-8\"))\n",
    "print(key)\n",
    "print(len(key))\n",
    "key=key.decode(\"utf-8\")\n",
    "\n",
    "def zero_padding(data, block_size):\n",
    "    pad_length = block_size - len(data) % block_size\n",
    "    padded_data = data.ljust(len(data) + pad_length, b'\\x00')\n",
    "    return padded_data\n",
    "\n",
    "def encrypt(raw):\n",
    "    # 使用 Zero Padding 进行填充\n",
    "    cipher = AES.new(key.encode('utf-8'), AES.MODE_ECB)\n",
    "    raw_bytes = raw.encode('utf-8')\n",
    "    padded_data =  zero_padding(raw_bytes, AES.block_size)\n",
    "    encrypted = cipher.encrypt(padded_data)\n",
    "    return base64.b64encode(encrypted).decode('utf-8')\n",
    "\n",
    "def decrypt(enc):\n",
    "    enc_bytes = base64.b64decode(enc)\n",
    "    cipher = AES.new(key.encode('utf-8'), AES.MODE_ECB)\n",
    "    decrypted = cipher.decrypt(enc_bytes)\n",
    "    # 使用 Zero Padding 进行解除填充\n",
    "    unpadded_data = decrypted.rstrip(b'\\x00')\n",
    "    return unpadded_data.decode('utf-8')\n",
    "\n",
    "data = \"security\"\n",
    "encrypted_data = encrypt(data)\n",
    "print(\"Encrypted:\", encrypted_data)\n",
    "decrypted_data = decrypt(encrypted_data)\n",
    "print(\"Decrypted:\", decrypted_data)"
   ]
  },
  {
   "cell_type": "code",
   "execution_count": 4,
   "metadata": {},
   "outputs": [
    {
     "name": "stdout",
     "output_type": "stream",
     "text": [
      "95\n"
     ]
    }
   ],
   "source": [
    "visible_characters = \" !\\\"#$%&'()*+,-./0123456789:;<=>?@ABCDEFGHIJKLMNOPQRSTUVWXYZ[\\\\]^_`abcdefghijklmnopqrstuvwxyz{|}~\"\n",
    "len(visible_characters)\n",
    "k=len(visible_characters)\n",
    "#print(visible_characters[62])\n",
    "print(len(visible_characters))"
   ]
  },
  {
   "cell_type": "code",
   "execution_count": 5,
   "metadata": {},
   "outputs": [],
   "source": [
    "x_1 = \"\"\n",
    "x_2 = \"\"\n",
    "x_3 = \"\"\n",
    "x_4 = \"\"\n",
    "key = \"0lOS\" + x_1 + \"b]\" + x_2 + \"&N)\" + x_3 + \"w\" + x_4 + \"@+\"\n",
    "data= \"INNkAZHIpe5u9LvzhH24VyORcZQVDCFXzV6V/l9M7rpgqskMxvaRbGwR2dZaxMDZ\""
   ]
  },
  {
   "cell_type": "code",
   "execution_count": 6,
   "metadata": {},
   "outputs": [
    {
     "name": "stdout",
     "output_type": "stream",
     "text": [
      "Decrypted: CTF (Capture The Flag) started from DEFCON CTF.\n",
      "Key:  0lOSib]w&N)-wH@+\n"
     ]
    }
   ],
   "source": [
    "for a in range(k):\n",
    "    x_1=visible_characters[a]\n",
    "    for b in range(k):\n",
    "        x_2=visible_characters[b]\n",
    "        for c in range(k):\n",
    "            x_3=visible_characters[c]\n",
    "            for d in range(k):\n",
    "                x_4=visible_characters[d]\n",
    "                key = \"0lOS\" + x_1 + \"b]\" + x_2 + \"&N)\" + x_3 + \"w\" + x_4 + \"@+\"\n",
    "                # print((key), len(key))\n",
    "                # print(d)\n",
    "                try:\n",
    "                    if len(key) != 16:\n",
    "                        raise ValueError(\"AES key must be 16 bytes long\")\n",
    "                    decrypted_data = decrypt(data)\n",
    "                    print(\"Decrypted:\", decrypted_data)\n",
    "                    print(\"Key: \",  key)\n",
    "                except UnicodeDecodeError:\n",
    "                    # 如果解碼錯誤，可以使用其他方式處理，或者忽略這部分數據\n",
    "                    decoded_data = \"解碼錯誤，無法顯示\"\n",
    "                except ValueError as e:\n",
    "                    print(\"Error:\", e)\n",
    "                    print((key), len(key))"
   ]
  },
  {
   "cell_type": "markdown",
   "metadata": {},
   "source": [
    "----------------------------------------------------------------------------------------------------------------------------------------------------------------------------------------------"
   ]
  },
  {
   "cell_type": "code",
   "execution_count": 8,
   "metadata": {},
   "outputs": [],
   "source": [
    "x_1 = \"\"\n",
    "x_2 = \"\"\n",
    "x_3 = \"\"\n",
    "x_4 = \"\"\n",
    "key = \"|q\" + x_1 + \"~k=\" + x_2 + \"&?I$Fx\" + x_3 + \"N\" + x_4\n",
    "data = \"FZp57a6p84EUNC7I/ENj4RhPZtryOJr4che9JbA8ng1eI8ZMTlsl8kzicBDqkOqkFj3lwC69KR2MeA8lscVlig==\"\n",
    "data = \"FZp57a6p84EUNC7I/ENj4RhPZtryOJr4che9JbA8ng1eI8ZMTlsl8kzicBDqkOqkFj3lwC69KR2MeA8lscVlig==\"\n"
   ]
  },
  {
   "cell_type": "code",
   "execution_count": 9,
   "metadata": {},
   "outputs": [
    {
     "name": "stdout",
     "output_type": "stream",
     "text": [
      "明文:  6G network scale is expected to cover the world.\n",
      "金鑰:  |qL~k=S&?I$Fx+N(\n"
     ]
    }
   ],
   "source": [
    "for a in range(k):\n",
    "    x_1=visible_characters[a]\n",
    "    for b in range(k):\n",
    "        x_2=visible_characters[b]\n",
    "        for c in range(k):\n",
    "            x_3=visible_characters[c]\n",
    "            for d in range(k):\n",
    "                x_4=visible_characters[d]\n",
    "                key = \"|q\" + x_1 + \"~k=\" + x_2 + \"&?I$Fx\" + x_3 + \"N\" + x_4\n",
    "                # print((key), len(key))\n",
    "                # print(d)\n",
    "                try:\n",
    "                    if len(key) != 16:\n",
    "                        raise ValueError(\"AES key must be 16 bytes long\")\n",
    "                    decrypted_data = decrypt(data)\n",
    "                    print(\"明文: \", decrypted_data)\n",
    "                    print(\"金鑰: \", key)\n",
    "                except UnicodeDecodeError:\n",
    "                    # 如果解碼錯誤，可以使用其他方式處理，或者忽略這部分數據\n",
    "                    decoded_data = \"解碼錯誤，無法顯示\"\n",
    "                except ValueError as e:\n",
    "                    print(\"Error:\", e)\n",
    "                    print((key), len(key))"
   ]
  }
 ],
 "metadata": {
  "kernelspec": {
   "display_name": "pytorch",
   "language": "python",
   "name": "python3"
  },
  "language_info": {
   "codemirror_mode": {
    "name": "ipython",
    "version": 3
   },
   "file_extension": ".py",
   "mimetype": "text/x-python",
   "name": "python",
   "nbconvert_exporter": "python",
   "pygments_lexer": "ipython3",
   "version": "3.8.18"
  }
 },
 "nbformat": 4,
 "nbformat_minor": 2
}
